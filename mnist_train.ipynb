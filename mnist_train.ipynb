{
 "cells": [
  {
   "cell_type": "code",
   "execution_count": 4,
   "metadata": {},
   "outputs": [],
   "source": [
    "uploaded = \"/train.csv\"\n",
    "import pandas as pd\n",
    "import io\n",
    "data = pd.read_csv(\"train.csv\")\n",
    "#io.StringIO(uploaded.decode('utf-8'))\n",
    "data= data.values"
   ]
  },
  {
   "cell_type": "code",
   "execution_count": 5,
   "metadata": {},
   "outputs": [
    {
     "name": "stderr",
     "output_type": "stream",
     "text": [
      "Using TensorFlow backend.\n"
     ]
    },
    {
     "name": "stdout",
     "output_type": "stream",
     "text": [
      "[1 0 0 0 0 0 0 0 0 0 0 0 0 0 0]\n",
      "(42000, 785)\n",
      "(35000, 1, 28, 28) (2000, 1, 28, 28) (5000, 1, 28, 28)\n",
      "(35000, 10) (2000, 10) (5000, 10)\n"
     ]
    }
   ],
   "source": [
    "from keras.utils import np_utils\n",
    "print(data[0][:15])\n",
    "print(data.shape)\n",
    "\n",
    "label=data[:,0]\n",
    "\n",
    "train_data=data[:35000,1:]\n",
    "valid_data=data[35000:40000,1:]\n",
    "test_data=data[40000:,1:]\n",
    "\n",
    "\n",
    "train_data = train_data.reshape(35000, 1, 28, 28).astype('float32')\n",
    "valid_data = valid_data.reshape(valid_data.shape[0], 1, 28, 28).astype('float32')\n",
    "test_data = test_data.reshape(test_data.shape[0], 1, 28, 28).astype('float32')\n",
    "\n",
    "\"\"\"\n",
    "train_data = train_data.astype('float32')\n",
    "valid_data = valid_data.astype('float32')\n",
    "test_data = test_data.astype('float32')\n",
    "\"\"\"\n",
    "\n",
    "train_data = train_data / 255\n",
    "valid_data= valid_data/255\n",
    "test_data = test_data / 255\n",
    "\n",
    "train_label=label[:35000]\n",
    "valid_label=label[35000:40000]\n",
    "test_label=label[40000:]\n",
    "\n",
    "train_label = np_utils.to_categorical(train_label)\n",
    "valid_label = np_utils.to_categorical(valid_label)\n",
    "test_label = np_utils.to_categorical(test_label)\n",
    "\n",
    "\n",
    "print(train_data.shape, test_data.shape, valid_data.shape)\n",
    "print(train_label.shape, test_label.shape, valid_label.shape)"
   ]
  },
  {
   "cell_type": "code",
   "execution_count": 6,
   "metadata": {
    "collapsed": true
   },
   "outputs": [],
   "source": [
    "import numpy\n",
    "from keras.datasets import mnist\n",
    "from keras.models import Sequential\n",
    "from keras.layers import Dense\n",
    "from keras.layers import Dropout\n",
    "from keras.layers import Flatten\n",
    "from keras.layers.convolutional import Conv2D\n",
    "from keras.layers.convolutional import MaxPooling2D\n",
    "from keras.utils import np_utils\n",
    "from keras import backend as K\n",
    "K.set_image_dim_ordering('th')"
   ]
  },
  {
   "cell_type": "code",
   "execution_count": 7,
   "metadata": {
    "collapsed": true
   },
   "outputs": [],
   "source": [
    "model = Sequential()\n",
    "model.add(Conv2D(32, (5, 5), input_shape=(1, 28, 28), activation='relu'))\n",
    "model.add(MaxPooling2D(pool_size=(2, 2)))\n",
    "model.add(Dropout(0.2))\n",
    "model.add(Flatten())\n",
    "model.add(Dense(128, activation='relu'))\n",
    "model.add(Dense(10, activation='softmax'))\n",
    "# Compile model\n",
    "model.compile(loss='categorical_crossentropy', optimizer='adam', metrics=['accuracy'])"
   ]
  },
  {
   "cell_type": "code",
   "execution_count": 9,
   "metadata": {},
   "outputs": [
    {
     "name": "stdout",
     "output_type": "stream",
     "text": [
      "Train on 35000 samples, validate on 5000 samples\n",
      "Epoch 1/1\n",
      " - 97s - loss: 0.1184 - acc: 0.9657 - val_loss: 0.0850 - val_acc: 0.9738\n",
      "Baseline Error: 2.62%\n"
     ]
    }
   ],
   "source": [
    "# Fit the model\n",
    "model.fit(train_data, train_label, validation_data=(valid_data, valid_label), epochs=1, batch_size=200, verbose=2)\n",
    "# Final evaluation of the model\n",
    "scores = model.evaluate(valid_data, valid_label, verbose=0)\n",
    "print(\"Baseline Error: %.2f%%\" % (100-scores[1]*100))"
   ]
  },
  {
   "cell_type": "code",
   "execution_count": null,
   "metadata": {
    "collapsed": true
   },
   "outputs": [],
   "source": []
  }
 ],
 "metadata": {
  "kernelspec": {
   "display_name": "Python 3",
   "language": "python",
   "name": "python3"
  },
  "language_info": {
   "codemirror_mode": {
    "name": "ipython",
    "version": 3
   },
   "file_extension": ".py",
   "mimetype": "text/x-python",
   "name": "python",
   "nbconvert_exporter": "python",
   "pygments_lexer": "ipython3",
   "version": "3.6.3"
  }
 },
 "nbformat": 4,
 "nbformat_minor": 2
}
